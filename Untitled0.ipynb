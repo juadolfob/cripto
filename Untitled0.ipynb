{
  "nbformat": 4,
  "nbformat_minor": 0,
  "metadata": {
    "colab": {
      "name": "Untitled0.ipynb",
      "provenance": [],
      "collapsed_sections": [],
      "authorship_tag": "ABX9TyMJ6vEu1OBRZKcVmb3EEFjW",
      "include_colab_link": true
    },
    "kernelspec": {
      "name": "python3",
      "display_name": "Python 3"
    }
  },
  "cells": [
    {
      "cell_type": "markdown",
      "metadata": {
        "id": "view-in-github",
        "colab_type": "text"
      },
      "source": [
        "<a href=\"https://colab.research.google.com/github/juadolfob/cripto/blob/main/Untitled0.ipynb\" target=\"_parent\"><img src=\"https://colab.research.google.com/assets/colab-badge.svg\" alt=\"Open In Colab\"/></a>"
      ]
    },
    {
      "cell_type": "code",
      "metadata": {
        "id": "ksV-gjhFuwyo"
      },
      "source": [
        "text=\"\"\"ÉÐØÖÅÆÅÎÓÇÓÒØÍÒÙÓÈÉÒÙÉ×ØÖÅÚÍÈÅÈÍÇÉÑÓÒØÅÍËÒÉÉ×ÇÓÒ×ØÖÙÍÖÐÅÑÙÉÖØÉÇÍØÅÉÐÐÅØÍÒÔÓÉØÅ×ÔÖÍÑÅÕÙÅÉÚÍØÅÑÈÉÈÍØÌÓÖÅÇÓÖÔ×ÍØÝÈÉÒÙÉÚÓÒÅ×ÇÉÒØÉ×ÑÓÖÍÑÙÖÉÐÌÓÑÆÖÉ×ÅÆÉÝÔÍÉÒ×ÅÉÒÉ×ØÅØÖÅËÍÇÅÅÑÆÍÚÅÐÉÒÇÍÅÕÙÉÉÐÅÒÍÑÅÐÝÐÅÔÐÅÒØÅ×ÍÑÔÐÉÑÉÒØÉ×ÙÊÖÉÒÙÒÒÙÉÚÓÐÅÔÅÖÅÈÓÎÅ×ÉÍÒØÖÓÈÙÇÉÅ×ÍÉÒ×ÙÈÉ×ØÍÒÓÅÒÍÑÅÐÖÅÇÍÓÒÅÐÇÅVÅÔÉÒ×ÅÒØÉÉ×ÇÅÔÅÈÉ×ÙÇÓÒÈÍÇÍÓÒÒÅØÙÖÅÐ×ÍÒ×ÍÒÉÑÆÅÖËÓÐÍÆÉÖÅÖ×ÉÈÉÉÐÐÅØÓÈÅÚÍÅÉ×ÙÒÔÅÖØÉÈÉÉ×ØÉÑÙÒÈÓÈÉÐÕÙÉÉ×ÇÓÒÇÍÉÒÇÍÅ×ÉÅÊÍÖÑÅÇÓÑÓÔÙÖÅÍÒØÉÖÍÓÖÍÈÅÈÇÓÒØÖÅÉÐÇÙÅÐÒÍÒËÙÒÔÓÈÉÖÉÜØÉÖÒÓÔÙÉÈÉÅÊÍÅÒÞÅÖ×ÉÝØÅÑÆÍÉÒ×ÉÉÜÔÉÖÍÑÉÒØÅÅ×ÍÑÍ×ÑÓÇÓÑÓÙÒÇÓ×ÅÅÔÐÅ×ØÅÈÅÔÓÖÉÐÔÉ×ÓÓ×ÇÙÖÓÈÉÓØÖÅ×ÇÓ×Å×ÉÒØÓÈÓÑÓÑÉÒØÓÔÙÉÈÉÇÅÔØÅÖÐÅÚÉÖÈÅÈÍÒØÉÑÔÓÖÅÐÈÉ×ÙÉÜÍ×ØÉÒÇÍÅÔÉÖÓÉÒØÖÉÉÐÔÅ×ÅÈÓÕÙÉÝÅÒÓÉ×ÝÉÐÊÙØÙÖÓÕÙÉØÓÈÅÚÍÅÒÓÉ×É×ØÉÑÓÑÉÒØÓÉÒÉÐÕÙÉÉÜÍ×ØÉÒÓÉ×ÒÅÈÅÉ×ØÉÔÖÍÚÍÐÉËÍÓÕÙÉ×ÓÐÓÉÐÔÓ×ÉÉÈÉ×ÉÖÙÒ×ÙÎÉØÓ×ÓÆÉÖÅÒÓÝÙÒÍÇÓÉÒÑÉÈÍÓÈÉÙÒÙÒÍÚÉÖ×ÓÈÉÓÆÎÉØÓ×É×ÐÓÕÙÉÇÓÑÔÅÖØÉÇÓÒØÓÈÓ××Ù××ÉÑÉÎÅÒØÉ×Å×ÙÚÉÞÙÒÓÆÎÉØÓÔÅÖÅÐÓ×ÈÉÑÅ×ÒÓÉ×ÑÅ×ÕÙÉÙÒÍÒÈÍÚÍÈÙÓÉÒÐÅÇÓÐÉÇØÍÚÍÈÅÈÈÉÐÅÕÙÉÈÉÔÉÒÈÉÑÍÉÒØÖÅ×ÌÅÌÅÆÍÈÓÌÓÑÆÖÉ×ÝÌÅÒÚÍÚÍÈÓØÓÈÓ×ÌÅÒ×ÉÒØÍÈÓÉ×ØÅØÖÅËÍÇÅÅÑÆÍËÙÉÈÅÈÈÉ×ÙÇÓÒÈÍÇÍÓÒÔÉÖÓÑÍÉÒØÖÅ×ÌÅÌÅÆÍÈÓÊÍÐÓ×ÓÊÓ×ÝÌÅÒÔÉÒ×ÓÐÅÑÅÝÓÖÍÅÈÉÉÐÐÓ×ÌÅØÖÅØÅÈÓÈÉÉÒÑÅ×ÇÅÖÅÖÐÓ×ÉÌÅÒÉ×ÊÓÖÞÅÈÓÔÓÖÖÉÈÙÇÍÖÐÅÑÉÒØÉÅÑÅØÉÖÍÅÓÖÉÅÆ×ÓÖÆÉÖÐÅÑÅØÉÖÍÅÉÒÐÅÑÉÒØÉÓÊÙ×ÍÓÒÅÖÐÅÉÒÙÒÅ×ÓÐÅ×Ù×ØÅÒÇÍÅÅÕÙÉÐÐÓ×ÕÙÉÌÅÒÅÇÉÔØÅÈÓÉÐÈÙÅÐÍ×ÑÓÌÅÒÉ×ØÅÆÐÉÇÍÈÓÙÒÅÎÉÖÅÖÕÙÍÅÉÒØÖÉÇÙÉÖÔÓÝÅÐÑÅÕÙÉÔÉÖÑÍØÉÇÓÒ×ÍÈÉÖÅÖÇÓÑÓÍÒ×ÍËÒÍÊÍÇÅÒØÉÐÅÔÅÖØÉÈÉÐÝÓÕÙÉÒÓÔÙÉÈÉ×ÉÖ×ÅÐÚÅÈÓÌÅÒÒÉËÅÈÓÐÅÑÙÉÖØÉÝÅ×ÉÅÍÒØÉËÖÅÒÈÓÐÅÇÓÒÐÅÚÍÈÅÓÔÖÓÑÉØÍÉÒÈÓÐÉÅÐÌÓÑÆÖÉÍÒÑÓÖØÅÐÍÈÅÈÓÒÙÉÚÅÑÉÒØÉÌÅÒÒÉËÅÈÓÐÅÚÍÈÅÇÓÒ×ÍÈÉÖÅÒÈÓÐÅÇÓÑÓÙÒÚÉÐÓÈÉÍÐÙ×ÍÓÒÈÉÆÅÎÓÕÙÉ×ÉÉ×ÇÓÒÈÉÐÅÚÉÖÈÅÈÈÉÐÒÍÖÚÅÒÅÝÐÅÉØÍÇÅÕÙÉÌÅÒÔÖÓÔÙÉ×ØÓÅ×Ù×ÈÍ×ÇÍÔÙÐÓ××ÍÉÑÔÖÉÌÅÔÉÖ×ÉËÙÍÈÓÐÅÑÍ×ÑÅÓÆÎÉØÍÚÓÌÅ×ÍÈÓÇÙÉ×ØÍÓÒÈÉÉÐÍÑÍÒÅÖÐÅÅÑÆÍËÙÉÈÅÈÌÅÇÍÉÒÈÓ×ÉÔÙÖÓÍÒØÉÖÍÓÖÍÈÅÈÓÉÜØÉÖÍÓÖÍÈÅÈÔÙÖÅÉ×ÇÅÔÅÒÈÓÈÉÐÑÙÒÈÓ×ÉÒ×ÍÆÐÉÓ×ÍÉÒÈÓÉÒËÙÐÐÍÈÓÉÒÉÐÐÅÇÉÈÍÉÒÈÓÅÐÅÉØÉÖÒÍÈÅÈÓÉÒÇÉÖÖÅÒÈÓ×ÉÉÒÉÐÑÓÑÉÒØÓÔÙÖÓÌÉËÉÐÇÓÒÑÅ×ÍÒËÉÒÍÓÍÒØÉÒØÓÖÉÇÌÅÞÅÖÒÍÒËÙÒÓÈÉÐÓ×Å×ÔÉÇØÓ×ÈÉÐÅÇÓÒÈÍÇÍÓÒÈÉÐÌÓÑÆÖÉÝÖÉÇÓÒÇÍÐÍÅÖÐÓ×ØÓÈÓ××ÉËÙÒ×Ù×Í×ØÉÑÅÉÐÑÓÑÉÒØÓ×ÉÇÓÒ×ÉÖÚÅÉÒÉÐÈÉ×ÅÖÖÓÐÐÓÈÉÐØÍÉÑÔÓÒÅØÙÖÅÐÉÞÅ×ÉÅÊÍÖÑÅÉÒÉÐÖÓ×ØÖÓÈÉÐÉ×ÔÍÖÍØÙÕÙÉÐÓÒÍÉËÅÅ×ÙÑÍÉÒÈÓÐÓÉÐÍÒÈÍÚÍÈÙÓÉ×ÈÉÒÙÉÚÓÉÒÇÓÒØÖÅÈÓÉÒÐÅÇÓÐÉÇØÍÚÍÈÅÈÉÒÐÅÕÙÉÉ×ØÅÔÉÖÈÍÈÓÝÐÅÑÙÉÖØÉÈÉÇÅÈÅÌÓÑÆÖÉ×ÉÇÙÑÔÐÉÇÓÒ×ÍÉÒÈÓÇÅÒÇÉÐÅÈÓÉÒÐÅÚÍÈÅÈÉÐÅÌÙÑÅÒÍÈÅÈÅ×ÍÙÒÓÔÙÉÈÉÈÉ×ÇÅÒ×ÅÖÉÒÙÒÑÅÖÅÚÍÐÐÓ×ÓÓÔØÍÑÍ×ÑÓÈÓÒÈÉÍÒÇÐÙ×ÓÐÅ×ËÙÉÖÖÅ××ÅÒËÖÍÉÒØÅ××ÍÑÔÐÉÑÉÒØÉÉÜÔÖÉ×ÅÒÐÅÊÉÇÙÒÈÅÍÒÕÙÍÉØÙÈÈÉÐÉ×ÔÍÖÍØÙÉÒÐÅÅÇØÙÅÐÍÈÅÈÅÙÒÉÜÍ×ØÉÒÑÙÇÌÅ×ÈÓÇØÖÍÒÅ×ÕÙÉÓÔØÅÒÔÓÖÈÉÎÅÖÉÒÐÅ×ÓÑÆÖÅÇÍÉÖØÓ×Å×ÔÉÇØÓ×ÔÖÉÓÇÙÔÅÒØÉ×ÈÉÙÒÅ×ÍØÙÅÇÍÓÒÈÉÑÅ×ÍÅÈÓÇÓÑÔÐÉÎÅÔÉÖÓ×ÙÍÒØÉÒØÓÈÉÑÉÒØÍÖÒÓ×É×ØÅÉÒÚÅÒÓÐÅÇÓÆÅÖÈÍÅÒÓÔÅËÅÉ×Å×ÑÉØÅÊÍ×ÍÇÅ×ÖÅÞÓÒÅÆÐÉ×É×Å×ÉØÍÇÅ×ÇÓÒ×ÓÐÅÈÓÖÅ×ÇÓÒÕÙÉÕÙÍ×ÍÉÖÅÒÅØÖÅÉÖÒÓ××ÓÐÓÅÇÉÒØÙÅÒÉÐÈÉ×ÓÖÈÉÒÕÙÉ×ÙÊÖÍÑÓ×ÐÓ×ÌÓÑÆÖÉ×ÈÉÌÓÝÔÅÖÉÇÉÒ×ÉÒØÍÖÑÅ×ÅËÙÈÅÑÉÒØÉÕÙÉÒÙÒÇÅÐÅÔÅÖÅÈÓÎÅÈÉ×ÙÇÓÒÈÍÇÍÓÒÉÐÐÓ××ÉÇÓÒÓÇÉÒÅ×ÍÑÍ×ÑÓ×ÇÓÑÓÉÐÊÍÒ×ÙÔÖÉÑÓÅÐÕÙÉÈÉÆÉ×ÙÆÓÖÈÍÒÅÖ×ÉØÓÈÅÅÇÇÍÓÒÔÉÖÓÐÅ×ÉÜÍËÉÒÇÍÅ×ÈÉÐÅÅÇÇÍÓÒÐÓ×ÓÆÐÍËÅÒÅØÖÅØÅÖ×ÉÙÒÓ×ÅÓØÖÓ×ÇÓÑÓÍÒ×ØÖÙÑÉÒØÓ×ÙÓÆ×ØÅÇÙÐÓ×ÇÓÑÓÑÉÈÍÓÇÙÅÒØÓÑÅ×ÉÜØÉÒÈÍÈÓÉ××ÙÈÓÑÍÒÍÓÈÉÐÑÙÒÈÓÑÅ××ÉÉÒÇÙÉÒØÖÅÒÅÔÐÅ×ØÅÈÓÔÓÖÊÙÉÖÞÅ×ÍÒÇÓÒØÖÓÐÅÆÐÉ×ÅÙÒÕÙÉ×ÓÒÑÅÉ×ØÖÓ×ÈÉÐÅÆÓÑÆÅÅØÓÑÍÇÅ×ÍÒÉÑÆÅÖËÓÉ×ÇÖÉÅÈÓ×ÓÐÓÔÅÖÅÈÉ×ØÖÙÍÖÐÓ×ÇÅÈÅÙÒÓØÍÉÒÉÉÒÐÅÆÓÇÅÉÐÍÒÇÓÑÔÅÖÅÆÐÉ×ÅÆÓÖÈÉ×Ù×ÙÔÖÓÔÍÅÚÍÈÅÝ×ÍÒÉÑÆÅÖËÓÇÅÈÅÙÒÓ×É×ÍÉÒØÉÑÅ×ÍÒ×ÍËÒÍÊÍÇÅÒØÉÕÙÉÙÒÍÒ×ÉÇØÓÈÉÒØÖÓÈÉÐÅÍÒÑÉÒ×ÅÇÓÐÉÇØÍÚÍÈÅÈÇÙÝÓ×ÐÍÑÍØÉ××ÓÒÙÒÓÇÓÒÐÓ×ÈÉÐÅØÍÉÖÖÅÕÙÍÞÅ×ÉÒÒÍÒËÙÒÅÓØÖÅÉÔÓÇÅÌÅÝÅÒÑÅÒÍÊÉ×ØÅÖÓÒ×ÙËÖÅÒÈÉÞÅÑÅ×ÆÖÍÐÐÅÒØÉÑÉÒØÉÝÉÒÒÍÒËÙÒÅÓØÖÅÉÔÓÇÅÉ×ØÅËÖÅÒÈÉÞÅÌÅ×ÍÈÓØÅÒÌÓÖÖÍÆÐÉÑÉÒØÉÆÙÖÐÅÈÓÅÔÉ×ÅÖÈÉØÅÒØÅ×ÑÉÒØÍÖÅ×ÓÆ×ØÍÒÅÈÅ×ÉÒÇÅÈÅÑÓÑÉÒØÓÉÒÇÅÈÅÓÔÓÖØÙÒÍÈÅÈÐÅÚÉÖÈÅÈ×ÅÐÉÅÐÅÐÙÞÐÅÚÉÖÈÅÈÈÉÐÅÚÍÈÅÝÐÅÑÙÉÖØÉÈÉÑÍ×ÓÐÉÈÅÈÝÑÍÚÍÒÇÙÐÓÇÓÒÉÐÑÙÒÈÓÈÉÑÍÐÍÆÉÖØÅÈÝÑÍ×ÉÖÚÍÈÙÑÆÖÉÈÉÐÅÍÒ×ÍËÒÍÊÍÇÅÒÇÍÅÝÈÉÐ×ÓÆÉÖÅÒÓÍÑÔÓÖØÅÒÇÍÅÈÉÇÅÈÅÌÓÑÆÖÉÝÈÉØÓÈÓ×ÐÓ×ÌÓÑÆÖÉ×É×ØÅÆÅ×ØÅÐÍÒËÖÅÈÓÝÉ×ØÅÆÅÆÙÇÌÉÒÛÅÐÈÝÒÍÒËÙÒÓÈÉÐÓ×ÈÓ×ÆÓÖÖÅÅÐÓØÖÓÇÓÑÓÒÓÐÓËÖÅÑÓ×ÌÙÍÖÈÉÉÐÈÉÎÉÑÓ×ÔÓÖÐÓØÅÒØÓØÖÅØÉÈÉÑÍÖÅÖÐÅÚÉÖÈÅÈÅÐÅÇÅÖÅÍÒØÉÒØÉÑÓ×Å×ÙÑÍÖÒÙÉ×ØÖÅÅÑÆÍËÙÉÈÅÈÊÙÒÈÅÑÉÒØÅÐÉ×ÉÒÉÐÇÓÒÓÇÍÑÍÉÒØÓÈÉÐÅ×ÇÓÒÈÍÇÍÓÒÉ×ËÉÒÙÍÒÅ×ÈÉÒÙÉ×ØÖÅÚÍÈÅÕÙÉÈÉÆÉÑÓ××ÅÇÅÖÒÙÉ×ØÖÅÊÙÉÖÞÅÚÍÚÍÖÝÒÙÉ×ØÖÅÖÅÞÓÒÈÉÅÇØÙÅÖÈÉ×ÈÉÉÐÔÖÍÒÇÍÔÍÓÉÐÉÜÍ×ØÉÒÇÍÅÐÍ×ÑÓ×ÉÈÉÊÍÒÍÓÇÓÑÓÙÒÅÊÍÐÓ×ÓÊÍÅÈÉÐÅÅÑÆÍËÙÉÈÅÈ\"\"\""
      ],
      "execution_count": 290,
      "outputs": []
    },
    {
      "cell_type": "code",
      "metadata": {
        "id": "ZD0nBxvHwNGs"
      },
      "source": [
        "monograma = [' ','e','a','o','s','r','n','i','d','l','c','t','u','m','p','b','.']\r\n",
        "bigramas = ['en', 'de', 'er', 'es', 'ue']\r\n",
        "trigramas = ['que', 'ent', 'nte', 'con', 'est','ado','par','los']"
      ],
      "execution_count": 315,
      "outputs": []
    },
    {
      "cell_type": "code",
      "metadata": {
        "id": "2sr91lPN5l-k"
      },
      "source": [
        "import collections\r\n",
        "def n_gram_counter(text,n):\r\n",
        "  result=[]\r\n",
        "  for i in range(n):\r\n",
        "    result.extend([text[j+i: j+i+n] for j in range(len(text)-i)])\r\n",
        "  return result"
      ],
      "execution_count": 316,
      "outputs": []
    },
    {
      "cell_type": "code",
      "metadata": {
        "id": "vUUzJIaK7x4M"
      },
      "source": [
        "n1gram=n_gram_counter(text,1)\r\n",
        "mcommon_n1gram=collections.Counter(n1gram).most_common(len(monograma))\r\n",
        "n2gram=n_gram_counter(text,2)\r\n",
        "mcommon_n2gram=collections.Counter(n2gram).most_common(len(bigramas))\r\n",
        "n3gram=n_gram_counter(text,3)\r\n",
        "mcommon_n3gram=collections.Counter(n3gram).most_common(len(trigramas))"
      ],
      "execution_count": 317,
      "outputs": []
    },
    {
      "cell_type": "code",
      "metadata": {
        "colab": {
          "base_uri": "https://localhost:8080/"
        },
        "id": "JeJhR8Zs__nE",
        "outputId": "16414a8e-c6e2-48be-e9c3-5a5504339763"
      },
      "source": [
        "print(\"monograma \"+str(mcommon_n1gram))\r\n",
        "print(\"bigrama \"+str(mcommon_n2gram))\r\n",
        "print(\"trigrama \"+str(mcommon_n3gram))"
      ],
      "execution_count": 318,
      "outputs": [
        {
          "output_type": "stream",
          "text": [
            "monograma [('\\x84', 771), ('É', 479), ('Å', 438), ('Ó', 341), ('Ò', 305), ('×', 270), ('Í', 257), ('È', 226), ('Ö', 209), ('Ð', 182), ('Ø', 178), ('Ù', 166), ('Ç', 139), ('Ñ', 137), ('Ô', 81), ('Æ', 56), ('\\x90', 49)]\n",
            "bigrama [('Å\\x84', 294), ('É\\x84', 258), ('Ó\\x84', 224), ('\\x84É', 218), ('ÉÒ', 184)]\n",
            "trigrama [('\\x84ÈÉ', 213), ('ÈÉ\\x84', 153), ('\\x84ÐÅ', 144), ('ÐÅ\\x84', 144), ('\\x84ÇÓ', 120), ('ÉÒØ', 102), ('ÉÐ\\x84', 97), ('\\x84ÉÒ', 96)]\n"
          ],
          "name": "stdout"
        }
      ]
    },
    {
      "cell_type": "code",
      "metadata": {
        "id": "6EySgo4e9kVT"
      },
      "source": [
        "finaltext=text\r\n",
        "\r\n",
        "finaltext=finaltext.replace(mcommon_n1gram[0][0],\" \")\r\n",
        "\r\n",
        "for i in range(len(trigramas)):\r\n",
        "  finaltext=finaltext.replace(mcommon_n3gram[i][0],trigramas[i])\r\n",
        "\r\n",
        "for i in range(len(bigramas)):\r\n",
        "  finaltext=finaltext.replace(mcommon_n2gram[i][0],bigramas[i])\r\n",
        "\r\n",
        "for i in range(1,len(monograma)):\r\n",
        "  finaltext=finaltext.replace(mcommon_n1gram[i][0],monograma[i])"
      ],
      "execution_count": 319,
      "outputs": []
    },
    {
      "cell_type": "code",
      "metadata": {
        "colab": {
          "base_uri": "https://localhost:8080/",
          "height": 120
        },
        "id": "3MFGTZSk-51v",
        "outputId": "10baa62c-4d29-442f-fbb9-6f81df6c6e95"
      },
      "source": [
        "finaltext"
      ],
      "execution_count": 320,
      "outputs": [
        {
          "output_type": "execute_result",
          "data": {
            "application/vnd.google.colaboratory.intrinsic+json": {
              "type": "string"
            },
            "text/plain": [
              "'el cdabaÎo uoscnsto ie stercda Únia. inue moscanËse. er uosrcdtnd la mtedce\\x92 unca el lacns poecar\\x9e pdnma. Õtae Úncam ieinc. Ìoda uodprnc\\x92 Ý ie steÚo\\x9e saruadoer modnmtd\\x92 el Ìombde rabe Ý pnuera ue erca cdaËnua ambnÚalueuna Õte el asnmal Ý la plasca rnmplemadoe rtÊdue\\x92 ts steÚo la padaioÎa re nscdoitue arn ue rt iercnso\\x92 asnmal daunosal. uaVa puerasce. eruapa ie rt uosinunos sactdal rns. rns embadËo. lnbedadre ie ella\\x92 coiaÚna er ts padce ie erce mtsio iel Õte er uosunueuna\\x92 re aÊndma uomo ptda nscednodniai uoscda el utal snsËts poied eÜcedso  pteie aÊnasÞadre. Ý cambnue re eÜpednmadoa a rn mnrmo uomo ts uora aplarcaia pod el pero orutdo ie ocdar uorar\\x92 ue coio momadoo pteie uapcad la Úediai nscempodal ie rt eÜnrcueuna\\x92 pedo adode el paraio Õte Ýa so er Ý el Êtctdo Õte coiaÚna so er. erce momadoo ue el Õte eÜnrce so er saia\\x92 erce pdnÚnleËno. Õte rolo el poree. ie red ts rtÎeco robedaso Ý tsnuo ue meino ie ts tsnÚedro ie obÎecor. er lo Õte uompadce uos coior rtr remeÎascer\\x92 a rt ÚeÞ. ts obÎeco pada lor iemar. so er mar Õte ts nsinÚnito ue la uoleucnÚniai ie la Õte iepueie\\x92 mnadodar Ìa Ìabnio Ìombder Ý Ìas ÚnÚnio. coior Ìas radonio erca cdaËnua ambnËteiai ie rt uosinunos. pedo mnadodar Ìa Ìabnio ÊnloroÊor Ý Ìas puero. la maÝodna ie ellor Ìa cdacaio ie uemaruadadlo\\x92 re Ìas erÊodÞaio pod deitund la madoe a macedna. o deabrodbed la macedna ue la madoe. o Êtrnosadla ue tsa rola rtrcasuna\\x92 aÕtellor Õte Ìas auepcaio el italnrmo Ìas ercableunio tsa ÎedadÕtna adode utedpo Ý alma Õte pedmnce uosrniedad uomo nsrnËsnÊnuasce la padce iel Ýo Õte so pteie red ralÚaio\\x92 Ìas seËaio la mtedce. Ýa rea nsceËdasiola uos la Únia o pdomecnueiole al Ìombde nsmodcalniai\\x92 o. steÚamadoe. Ìas seËaio la Únia. uosrniedasiola uomo ts Úelo ie nltrnos iebaÎo Õte re eruosie la Úediai iel sndÚasa\\x92 Ý la ecnua Õte Ìas pdopterco a rtr inrunptlor rnempde Ìa pedreËtnio la mnrma obÎecnÚo\\x92 Ìa rnio utercnos ie elnmnsad la ambnËteiai Ìaunueiore ptdo nscednodniai o eÜcednodniai ptda. eruapasio iel mtsio ruernble o rnueio ueËtllnio ue ella. ueinueio a la ecedsniai o ueueddasiore ue el momadoo ptdo\\x92 ÌeËel. uos mar nsËueno. nscadoo deuÌaÞad snsËtso ie lor arpeucor ie la uosinunos iel Ìombde Ý deuosunlnadlor coior\\x92 reËts rt rnrcema. el momadoo re uosredÚa ue el ieraddollo iel cnempo\\x9f sactdaleÞa re aÊndma ue el dorcdo iel erpndnct Õte lo sneËa artmnueiolo\\x9f el nsinÚnito er ie steÚo ueuoscdaio ue la uoleucnÚniai ue la Õte erca pedinio\\x9f Ý la mtedce ie uaia Ìombde re utmple uos rnueio uasuelaio ue la Únia ie la Ìtmasniai\\x92 arn. tso pteie ieruasrad ue ts madaÚnlloro opcnmnrmo iosie nsultro lar Ëteddar rasËdnadoar rnmplemadoe eÜpderas la Êeutsia nsÕtnecti iel erpndnct\\x92 ue la auctalniai ats eÜnrcue mtuÌar ioucdnsar Õte opcas pod ieÎad ue la rombda unedcor arpeucor pdeoutpascer ie tsa rnctaunos iemarnaio uompleÎa\\x92 pedo rt nscadoo ie madondsor erca ue Úaso\\x92 la uobadina so paËa\\x92 erar mecaÊnrnuar daÞosabler. erar ecnuar uosrolaiodar uos Õte Õtnrnedas acdaedsor rolo auadotas el ierodiue Õte rtÊdnmor\\x92 lor Ìombder ie ÌoÝ padeuue radond mar aËtiamadoe Õte stsua la padaioÎa ie rt uosinunos\\x92 ellor re uosouue a rn mnrmor uomo el Êns rtpdemo al Õte iebe rtbodinsadre coia auunos. pedo lar eÜnËueunar ie la auunos lor oblnËas a cdacadre tsor a ocdor uomo nsrcdtmadoor t obrcautlor. uomo meino\\x92 utasco mar eÜcueinio er rt iomnsno iel mtsio. mar re ueutadodas aplarcaio pod ÊtedÞar nsuoscdolabler\\x92 atsÕte ros maercdor ie la bomba acomnua. rns embadËo. er udeaio rolo pada iercdtndlor\\x92 uaia tso cnuee ue la boua el nsuompadable rabod ie rt rt pdopna Únia. Ý rns embadËo uaia tso re rnadoe mar nsrnËsnÊnuasce Õte ts nsreuco iadodo ie la nsmuera uoleucnÚniai utÝor lnmncer ros tso uos lor ie la cnedda\\x92 ÕtnÞar ue snsËtsa ocda epoua ÌaÝas masnÊercados rt ËdasieÞa mar bdnllascemadoe. Ý ue snsËtsa ocda epoua erca ËdasieÞa Ìa rnio cas Ìoddnblemadoe btdlaio\\x92 a perad ie cascar madondar obrcnsaiar. ue uaia momadoo. ue uaia opodctsniai. la Úediai rale a la ltÞ. la Úediai ie la Únia Ý la mtedce. ie mn roleiai Ý mn Únsutlo uos el mtsio. ie mn lnbedcai Ý mn redÚnitmbde. ie la nsrnËsnÊnuasuna Ý iel robedaso nmpodcasuna ie uaia Ìombde Ý ie coior lor Ìombder\\x92 ercaba rcalnsËdaio Ý ercaba btuÌueÛali. Ý snsËtso ie lor ior bodda al ocdo\\x92 uomo so loËdamor Ìtnd ie el. ieÎemor pod lo casco. cdace ie mndad la Úediai a la uada\\x92 nscadoemor artmnd stercda ambnËteiai Êtsiamadoal\\x92 er ue el uosounmnadoo ie lar uosinunoser Ëuetnsar ie stercda Únia Õte iebemor rauad stercda ÊtedÞa ÚnÚnd Ý stercda daÞos ie auctad\\x92 ierie el pdnsunpno. el eÜnrcueunalnrmo re ieÊnsno uomo tsa ÊnloroÊna ie la ambnËteiai\\x92'"
            ]
          },
          "metadata": {
            "tags": []
          },
          "execution_count": 320
        }
      ]
    },
    {
      "cell_type": "code",
      "metadata": {
        "id": "AM6Ri8nAJ9WS"
      },
      "source": [
        ""
      ],
      "execution_count": 314,
      "outputs": []
    }
  ]
}